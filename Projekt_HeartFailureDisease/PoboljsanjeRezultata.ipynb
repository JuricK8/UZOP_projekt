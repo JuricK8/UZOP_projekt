{
 "cells": [
  {
   "cell_type": "markdown",
   "id": "fd0181d0",
   "metadata": {},
   "source": [
    "# Predicting Heart Failure Disease\n"
   ]
  },
  {
   "cell_type": "markdown",
   "id": "fd0181d0",
   "metadata": {},
   "source": [
    "## I. Priprema i Vizualizacija Podataka\n",
    "\n"
   ]
  },
  {
   "cell_type": "markdown",
   "metadata": {},
   "source": [
    "### 1. Prvi pogled na podatke"
   ]
  },
  {
   "cell_type": "code",
   "execution_count": 1,
   "id": "8ff6b692",
   "metadata": {},
   "outputs": [],
   "source": [
    "import numpy as np\n",
    "import pandas as pd\n",
    "import matplotlib.pyplot as plt"
   ]
  },
  {
   "cell_type": "markdown",
   "id": "3f59a392",
   "metadata": {},
   "source": [
    "### 1.1 Učitavanje podataka i početni pregled"
   ]
  },
  {
   "cell_type": "code",
   "execution_count": 2,
   "metadata": {},
   "outputs": [],
   "source": [
    "Data = pd.read_csv(\"heart_cleveland_upload.csv\")"
   ]
  },
  {
   "cell_type": "code",
   "execution_count": 3,
   "metadata": {},
   "outputs": [
    {
     "data": {
      "text/plain": [
       "(297, 14)"
      ]
     },
     "execution_count": 3,
     "metadata": {},
     "output_type": "execute_result"
    }
   ],
   "source": [
    "Data.shape"
   ]
  },
  {
   "cell_type": "code",
   "execution_count": 4,
   "metadata": {},
   "outputs": [
    {
     "data": {
      "text/html": [
       "<div>\n",
       "<style scoped>\n",
       "    .dataframe tbody tr th:only-of-type {\n",
       "        vertical-align: middle;\n",
       "    }\n",
       "\n",
       "    .dataframe tbody tr th {\n",
       "        vertical-align: top;\n",
       "    }\n",
       "\n",
       "    .dataframe thead th {\n",
       "        text-align: right;\n",
       "    }\n",
       "</style>\n",
       "<table border=\"1\" class=\"dataframe\">\n",
       "  <thead>\n",
       "    <tr style=\"text-align: right;\">\n",
       "      <th></th>\n",
       "      <th>age</th>\n",
       "      <th>sex</th>\n",
       "      <th>cp</th>\n",
       "      <th>trestbps</th>\n",
       "      <th>chol</th>\n",
       "      <th>fbs</th>\n",
       "      <th>restecg</th>\n",
       "      <th>thalach</th>\n",
       "      <th>exang</th>\n",
       "      <th>oldpeak</th>\n",
       "      <th>slope</th>\n",
       "      <th>ca</th>\n",
       "      <th>thal</th>\n",
       "      <th>condition</th>\n",
       "    </tr>\n",
       "  </thead>\n",
       "  <tbody>\n",
       "    <tr>\n",
       "      <th>0</th>\n",
       "      <td>69</td>\n",
       "      <td>1</td>\n",
       "      <td>0</td>\n",
       "      <td>160</td>\n",
       "      <td>234</td>\n",
       "      <td>1</td>\n",
       "      <td>2</td>\n",
       "      <td>131</td>\n",
       "      <td>0</td>\n",
       "      <td>0.1</td>\n",
       "      <td>1</td>\n",
       "      <td>1</td>\n",
       "      <td>0</td>\n",
       "      <td>0</td>\n",
       "    </tr>\n",
       "    <tr>\n",
       "      <th>1</th>\n",
       "      <td>69</td>\n",
       "      <td>0</td>\n",
       "      <td>0</td>\n",
       "      <td>140</td>\n",
       "      <td>239</td>\n",
       "      <td>0</td>\n",
       "      <td>0</td>\n",
       "      <td>151</td>\n",
       "      <td>0</td>\n",
       "      <td>1.8</td>\n",
       "      <td>0</td>\n",
       "      <td>2</td>\n",
       "      <td>0</td>\n",
       "      <td>0</td>\n",
       "    </tr>\n",
       "    <tr>\n",
       "      <th>2</th>\n",
       "      <td>66</td>\n",
       "      <td>0</td>\n",
       "      <td>0</td>\n",
       "      <td>150</td>\n",
       "      <td>226</td>\n",
       "      <td>0</td>\n",
       "      <td>0</td>\n",
       "      <td>114</td>\n",
       "      <td>0</td>\n",
       "      <td>2.6</td>\n",
       "      <td>2</td>\n",
       "      <td>0</td>\n",
       "      <td>0</td>\n",
       "      <td>0</td>\n",
       "    </tr>\n",
       "    <tr>\n",
       "      <th>3</th>\n",
       "      <td>65</td>\n",
       "      <td>1</td>\n",
       "      <td>0</td>\n",
       "      <td>138</td>\n",
       "      <td>282</td>\n",
       "      <td>1</td>\n",
       "      <td>2</td>\n",
       "      <td>174</td>\n",
       "      <td>0</td>\n",
       "      <td>1.4</td>\n",
       "      <td>1</td>\n",
       "      <td>1</td>\n",
       "      <td>0</td>\n",
       "      <td>1</td>\n",
       "    </tr>\n",
       "    <tr>\n",
       "      <th>4</th>\n",
       "      <td>64</td>\n",
       "      <td>1</td>\n",
       "      <td>0</td>\n",
       "      <td>110</td>\n",
       "      <td>211</td>\n",
       "      <td>0</td>\n",
       "      <td>2</td>\n",
       "      <td>144</td>\n",
       "      <td>1</td>\n",
       "      <td>1.8</td>\n",
       "      <td>1</td>\n",
       "      <td>0</td>\n",
       "      <td>0</td>\n",
       "      <td>0</td>\n",
       "    </tr>\n",
       "  </tbody>\n",
       "</table>\n",
       "</div>"
      ],
      "text/plain": [
       "   age  sex  cp  trestbps  chol  fbs  restecg  thalach  exang  oldpeak  slope  \\\n",
       "0   69    1   0       160   234    1        2      131      0      0.1      1   \n",
       "1   69    0   0       140   239    0        0      151      0      1.8      0   \n",
       "2   66    0   0       150   226    0        0      114      0      2.6      2   \n",
       "3   65    1   0       138   282    1        2      174      0      1.4      1   \n",
       "4   64    1   0       110   211    0        2      144      1      1.8      1   \n",
       "\n",
       "   ca  thal  condition  \n",
       "0   1     0          0  \n",
       "1   2     0          0  \n",
       "2   0     0          0  \n",
       "3   1     0          1  \n",
       "4   0     0          0  "
      ]
     },
     "execution_count": 4,
     "metadata": {},
     "output_type": "execute_result"
    }
   ],
   "source": [
    "Data.head()"
   ]
  },
  {
   "cell_type": "code",
   "execution_count": 5,
   "metadata": {},
   "outputs": [
    {
     "data": {
      "text/plain": [
       "Index(['age', 'sex', 'cp', 'trestbps', 'chol', 'fbs', 'restecg', 'thalach',\n",
       "       'exang', 'oldpeak', 'slope', 'ca', 'thal', 'condition'],\n",
       "      dtype='object')"
      ]
     },
     "execution_count": 5,
     "metadata": {},
     "output_type": "execute_result"
    }
   ],
   "source": [
    "Data.columns"
   ]
  },
  {
   "cell_type": "markdown",
   "id": "3f59a392",
   "metadata": {},
   "source": [
    "### 1.2 Tipovi podataka "
   ]
  },
  {
   "cell_type": "code",
   "execution_count": 6,
   "metadata": {},
   "outputs": [
    {
     "name": "stdout",
     "output_type": "stream",
     "text": [
      "<class 'pandas.core.frame.DataFrame'>\n",
      "RangeIndex: 297 entries, 0 to 296\n",
      "Data columns (total 14 columns):\n",
      " #   Column     Non-Null Count  Dtype  \n",
      "---  ------     --------------  -----  \n",
      " 0   age        297 non-null    int64  \n",
      " 1   sex        297 non-null    int64  \n",
      " 2   cp         297 non-null    int64  \n",
      " 3   trestbps   297 non-null    int64  \n",
      " 4   chol       297 non-null    int64  \n",
      " 5   fbs        297 non-null    int64  \n",
      " 6   restecg    297 non-null    int64  \n",
      " 7   thalach    297 non-null    int64  \n",
      " 8   exang      297 non-null    int64  \n",
      " 9   oldpeak    297 non-null    float64\n",
      " 10  slope      297 non-null    int64  \n",
      " 11  ca         297 non-null    int64  \n",
      " 12  thal       297 non-null    int64  \n",
      " 13  condition  297 non-null    int64  \n",
      "dtypes: float64(1), int64(13)\n",
      "memory usage: 32.6 KB\n"
     ]
    }
   ],
   "source": [
    "Data.info()\n",
    "#=> Nema null vrijednosti u podacima, svi tipovi su numerički."
   ]
  },
  {
   "cell_type": "markdown",
   "id": "3f59a392",
   "metadata": {},
   "source": [
    "### 1.3 Monotoni atributi "
   ]
  },
  {
   "cell_type": "code",
   "execution_count": 7,
   "metadata": {},
   "outputs": [
    {
     "data": {
      "text/plain": [
       "age           41\n",
       "sex            2\n",
       "cp             4\n",
       "trestbps      50\n",
       "chol         152\n",
       "fbs            2\n",
       "restecg        3\n",
       "thalach       91\n",
       "exang          2\n",
       "oldpeak       40\n",
       "slope          3\n",
       "ca             4\n",
       "thal           3\n",
       "condition      2\n",
       "dtype: int64"
      ]
     },
     "execution_count": 7,
     "metadata": {},
     "output_type": "execute_result"
    }
   ],
   "source": [
    "Data.nunique()\n",
    "#=> Nema monotonih atributa."
   ]
  },
  {
   "cell_type": "markdown",
   "metadata": {},
   "source": [
    "### 1.4 Nedostajući podaci"
   ]
  },
  {
   "cell_type": "code",
   "execution_count": 8,
   "metadata": {},
   "outputs": [
    {
     "data": {
      "text/plain": [
       "age          0\n",
       "sex          0\n",
       "cp           0\n",
       "trestbps     0\n",
       "chol         0\n",
       "fbs          0\n",
       "restecg      0\n",
       "thalach      0\n",
       "exang        0\n",
       "oldpeak      0\n",
       "slope        0\n",
       "ca           0\n",
       "thal         0\n",
       "condition    0\n",
       "dtype: int64"
      ]
     },
     "execution_count": 8,
     "metadata": {},
     "output_type": "execute_result"
    }
   ],
   "source": [
    "Data.isna().sum()\n",
    "# => Nema nedostajućih podataka. :)"
   ]
  },
  {
   "cell_type": "markdown",
   "metadata": {},
   "source": [
    "### 1.5 Stršeći podaci"
   ]
  },
  {
   "cell_type": "code",
   "execution_count": 9,
   "metadata": {},
   "outputs": [
    {
     "data": {
      "text/html": [
       "<div>\n",
       "<style scoped>\n",
       "    .dataframe tbody tr th:only-of-type {\n",
       "        vertical-align: middle;\n",
       "    }\n",
       "\n",
       "    .dataframe tbody tr th {\n",
       "        vertical-align: top;\n",
       "    }\n",
       "\n",
       "    .dataframe thead th {\n",
       "        text-align: right;\n",
       "    }\n",
       "</style>\n",
       "<table border=\"1\" class=\"dataframe\">\n",
       "  <thead>\n",
       "    <tr style=\"text-align: right;\">\n",
       "      <th></th>\n",
       "      <th>age</th>\n",
       "      <th>sex</th>\n",
       "      <th>cp</th>\n",
       "      <th>trestbps</th>\n",
       "      <th>chol</th>\n",
       "      <th>fbs</th>\n",
       "      <th>restecg</th>\n",
       "      <th>thalach</th>\n",
       "      <th>exang</th>\n",
       "      <th>oldpeak</th>\n",
       "      <th>slope</th>\n",
       "      <th>ca</th>\n",
       "      <th>thal</th>\n",
       "      <th>condition</th>\n",
       "    </tr>\n",
       "  </thead>\n",
       "  <tbody>\n",
       "    <tr>\n",
       "      <th>count</th>\n",
       "      <td>297.000000</td>\n",
       "      <td>297.000000</td>\n",
       "      <td>297.000000</td>\n",
       "      <td>297.000000</td>\n",
       "      <td>297.000000</td>\n",
       "      <td>297.000000</td>\n",
       "      <td>297.000000</td>\n",
       "      <td>297.000000</td>\n",
       "      <td>297.000000</td>\n",
       "      <td>297.000000</td>\n",
       "      <td>297.000000</td>\n",
       "      <td>297.000000</td>\n",
       "      <td>297.000000</td>\n",
       "      <td>297.000000</td>\n",
       "    </tr>\n",
       "    <tr>\n",
       "      <th>mean</th>\n",
       "      <td>54.542088</td>\n",
       "      <td>0.676768</td>\n",
       "      <td>2.158249</td>\n",
       "      <td>131.693603</td>\n",
       "      <td>247.350168</td>\n",
       "      <td>0.144781</td>\n",
       "      <td>0.996633</td>\n",
       "      <td>149.599327</td>\n",
       "      <td>0.326599</td>\n",
       "      <td>1.055556</td>\n",
       "      <td>0.602694</td>\n",
       "      <td>0.676768</td>\n",
       "      <td>0.835017</td>\n",
       "      <td>0.461279</td>\n",
       "    </tr>\n",
       "    <tr>\n",
       "      <th>std</th>\n",
       "      <td>9.049736</td>\n",
       "      <td>0.468500</td>\n",
       "      <td>0.964859</td>\n",
       "      <td>17.762806</td>\n",
       "      <td>51.997583</td>\n",
       "      <td>0.352474</td>\n",
       "      <td>0.994914</td>\n",
       "      <td>22.941562</td>\n",
       "      <td>0.469761</td>\n",
       "      <td>1.166123</td>\n",
       "      <td>0.618187</td>\n",
       "      <td>0.938965</td>\n",
       "      <td>0.956690</td>\n",
       "      <td>0.499340</td>\n",
       "    </tr>\n",
       "    <tr>\n",
       "      <th>min</th>\n",
       "      <td>29.000000</td>\n",
       "      <td>0.000000</td>\n",
       "      <td>0.000000</td>\n",
       "      <td>94.000000</td>\n",
       "      <td>126.000000</td>\n",
       "      <td>0.000000</td>\n",
       "      <td>0.000000</td>\n",
       "      <td>71.000000</td>\n",
       "      <td>0.000000</td>\n",
       "      <td>0.000000</td>\n",
       "      <td>0.000000</td>\n",
       "      <td>0.000000</td>\n",
       "      <td>0.000000</td>\n",
       "      <td>0.000000</td>\n",
       "    </tr>\n",
       "    <tr>\n",
       "      <th>25%</th>\n",
       "      <td>48.000000</td>\n",
       "      <td>0.000000</td>\n",
       "      <td>2.000000</td>\n",
       "      <td>120.000000</td>\n",
       "      <td>211.000000</td>\n",
       "      <td>0.000000</td>\n",
       "      <td>0.000000</td>\n",
       "      <td>133.000000</td>\n",
       "      <td>0.000000</td>\n",
       "      <td>0.000000</td>\n",
       "      <td>0.000000</td>\n",
       "      <td>0.000000</td>\n",
       "      <td>0.000000</td>\n",
       "      <td>0.000000</td>\n",
       "    </tr>\n",
       "    <tr>\n",
       "      <th>50%</th>\n",
       "      <td>56.000000</td>\n",
       "      <td>1.000000</td>\n",
       "      <td>2.000000</td>\n",
       "      <td>130.000000</td>\n",
       "      <td>243.000000</td>\n",
       "      <td>0.000000</td>\n",
       "      <td>1.000000</td>\n",
       "      <td>153.000000</td>\n",
       "      <td>0.000000</td>\n",
       "      <td>0.800000</td>\n",
       "      <td>1.000000</td>\n",
       "      <td>0.000000</td>\n",
       "      <td>0.000000</td>\n",
       "      <td>0.000000</td>\n",
       "    </tr>\n",
       "    <tr>\n",
       "      <th>75%</th>\n",
       "      <td>61.000000</td>\n",
       "      <td>1.000000</td>\n",
       "      <td>3.000000</td>\n",
       "      <td>140.000000</td>\n",
       "      <td>276.000000</td>\n",
       "      <td>0.000000</td>\n",
       "      <td>2.000000</td>\n",
       "      <td>166.000000</td>\n",
       "      <td>1.000000</td>\n",
       "      <td>1.600000</td>\n",
       "      <td>1.000000</td>\n",
       "      <td>1.000000</td>\n",
       "      <td>2.000000</td>\n",
       "      <td>1.000000</td>\n",
       "    </tr>\n",
       "    <tr>\n",
       "      <th>max</th>\n",
       "      <td>77.000000</td>\n",
       "      <td>1.000000</td>\n",
       "      <td>3.000000</td>\n",
       "      <td>200.000000</td>\n",
       "      <td>564.000000</td>\n",
       "      <td>1.000000</td>\n",
       "      <td>2.000000</td>\n",
       "      <td>202.000000</td>\n",
       "      <td>1.000000</td>\n",
       "      <td>6.200000</td>\n",
       "      <td>2.000000</td>\n",
       "      <td>3.000000</td>\n",
       "      <td>2.000000</td>\n",
       "      <td>1.000000</td>\n",
       "    </tr>\n",
       "  </tbody>\n",
       "</table>\n",
       "</div>"
      ],
      "text/plain": [
       "              age         sex          cp    trestbps        chol         fbs  \\\n",
       "count  297.000000  297.000000  297.000000  297.000000  297.000000  297.000000   \n",
       "mean    54.542088    0.676768    2.158249  131.693603  247.350168    0.144781   \n",
       "std      9.049736    0.468500    0.964859   17.762806   51.997583    0.352474   \n",
       "min     29.000000    0.000000    0.000000   94.000000  126.000000    0.000000   \n",
       "25%     48.000000    0.000000    2.000000  120.000000  211.000000    0.000000   \n",
       "50%     56.000000    1.000000    2.000000  130.000000  243.000000    0.000000   \n",
       "75%     61.000000    1.000000    3.000000  140.000000  276.000000    0.000000   \n",
       "max     77.000000    1.000000    3.000000  200.000000  564.000000    1.000000   \n",
       "\n",
       "          restecg     thalach       exang     oldpeak       slope          ca  \\\n",
       "count  297.000000  297.000000  297.000000  297.000000  297.000000  297.000000   \n",
       "mean     0.996633  149.599327    0.326599    1.055556    0.602694    0.676768   \n",
       "std      0.994914   22.941562    0.469761    1.166123    0.618187    0.938965   \n",
       "min      0.000000   71.000000    0.000000    0.000000    0.000000    0.000000   \n",
       "25%      0.000000  133.000000    0.000000    0.000000    0.000000    0.000000   \n",
       "50%      1.000000  153.000000    0.000000    0.800000    1.000000    0.000000   \n",
       "75%      2.000000  166.000000    1.000000    1.600000    1.000000    1.000000   \n",
       "max      2.000000  202.000000    1.000000    6.200000    2.000000    3.000000   \n",
       "\n",
       "             thal   condition  \n",
       "count  297.000000  297.000000  \n",
       "mean     0.835017    0.461279  \n",
       "std      0.956690    0.499340  \n",
       "min      0.000000    0.000000  \n",
       "25%      0.000000    0.000000  \n",
       "50%      0.000000    0.000000  \n",
       "75%      2.000000    1.000000  \n",
       "max      2.000000    1.000000  "
      ]
     },
     "execution_count": 9,
     "metadata": {},
     "output_type": "execute_result"
    }
   ],
   "source": [
    "Data.describe()"
   ]
  },
  {
   "cell_type": "code",
   "execution_count": 10,
   "metadata": {},
   "outputs": [
    {
     "name": "stdout",
     "output_type": "stream",
     "text": [
      "Chol > 100:  297\n",
      "Chol > 200:  248\n",
      "Chol > 300:  44\n",
      "Chol > 400:  4\n",
      "Chol > 500:  1\n",
      "[564 417 407 394 409]\n",
      "[0 0 1 0 1]\n"
     ]
    }
   ],
   "source": [
    "#=> Kod razina kolesterola - chol postoji sumnja za postojanje stršećih vrijednosti. \n",
    "#=> Primjećeno kod vizualizacije - graf ovisnosti razine kolesterola o godinama.\n",
    "\n",
    "print('Chol > 100: ', (Data.chol > 100).sum())\n",
    "print('Chol > 200: ', (Data.chol > 200).sum())\n",
    "print('Chol > 300: ', (Data.chol > 300).sum())\n",
    "print('Chol > 400: ', (Data.chol > 400).sum())\n",
    "print('Chol > 500: ', (Data.chol > 500).sum())\n",
    "print(Data[Data['chol'] > 390].chol.values)\n",
    "\n",
    "print(Data[Data['chol'] > 390].condition.values)\n",
    "\n",
    "\n",
    "#=> Ulazni primjer čija je razina kolesterola jednaka 564 je sigurno stršeći podatak budući da taj pacijent nije ni u tom slučaju \n",
    "# imao srčanih problema. Vizualizacijom i detaljnijim pregledom podataka uviđeno je da samo pet primjera ima razinu kolesterola \n",
    "# višu od 390. Međutim, oni nisu promijenjeni budući da među njima ima i oboljelih pacijenata što može ukazivati na \n",
    "# postajanje neke ovisnosti. Podatak gdje je chol=564 zamijenjen je srednjom vrijednošću.\n"
   ]
  },
  {
   "cell_type": "code",
   "execution_count": 11,
   "metadata": {},
   "outputs": [],
   "source": [
    "#Data.loc[Data.chol == 564, \"chol\"] = Data.chol.mean()"
   ]
  },
  {
   "cell_type": "markdown",
   "metadata": {},
   "source": [
    "### 1.6. Nekonzistentni podatci"
   ]
  },
  {
   "cell_type": "code",
   "execution_count": 12,
   "metadata": {},
   "outputs": [
    {
     "name": "stdout",
     "output_type": "stream",
     "text": [
      "1    201\n",
      "0     96\n",
      "Name: sex, dtype: int64\n",
      "3    142\n",
      "2     83\n",
      "1     49\n",
      "0     23\n",
      "Name: cp, dtype: int64\n",
      "0    254\n",
      "1     43\n",
      "Name: fbs, dtype: int64\n",
      "0    147\n",
      "2    146\n",
      "1      4\n",
      "Name: restecg, dtype: int64\n",
      "0    200\n",
      "1     97\n",
      "Name: exang, dtype: int64\n",
      "0    139\n",
      "1    137\n",
      "2     21\n",
      "Name: slope, dtype: int64\n",
      "0    174\n",
      "1     65\n",
      "2     38\n",
      "3     20\n",
      "Name: ca, dtype: int64\n",
      "0    164\n",
      "2    115\n",
      "1     18\n",
      "Name: thal, dtype: int64\n",
      "0    160\n",
      "1    137\n",
      "Name: condition, dtype: int64\n"
     ]
    }
   ],
   "source": [
    "print(Data['sex'].value_counts())\n",
    "print(Data['cp'].value_counts())\n",
    "print(Data['fbs'].value_counts())\n",
    "print(Data['restecg'].value_counts())\n",
    "print(Data['exang'].value_counts())\n",
    "print(Data['slope'].value_counts())\n",
    "print(Data['ca'].value_counts())\n",
    "print(Data['thal'].value_counts())\n",
    "print(Data['condition'].value_counts())\n",
    "\n",
    "#=> Svi atributi koji su ograničeni na određeni vrijednosti postižu samo te vrijednosti. Nema nekonzistentnosti među podacima.\n",
    "\n"
   ]
  },
  {
   "cell_type": "markdown",
   "metadata": {},
   "source": [
    "### 2. Vizualizacija podataka"
   ]
  },
  {
   "cell_type": "markdown",
   "metadata": {},
   "source": [
    "### 2.1 Starost oboljelih i neoboljelih pacijenata"
   ]
  },
  {
   "cell_type": "code",
   "execution_count": 13,
   "metadata": {},
   "outputs": [
    {
     "data": {
      "image/png": "[encoded data removed]",
      "text/plain": [
       "<Figure size 432x288 with 1 Axes>"
      ]
     },
     "metadata": {
      "needs_background": "light"
     },
     "output_type": "display_data"
    }
   ],
   "source": [
    "plt.hist(Data[Data.condition==0].age, label='Neoboljeli', color='blue', alpha = 0.3)\n",
    "plt.hist(Data[Data.condition==1].age, label='Oboljeli', color='red', alpha = 0.5)\n",
    "plt.xlabel('Starost')\n",
    "plt.ylabel('Broj Pacijenata')\n",
    "plt.title('Raspodjela pacijenata po starosti')\n",
    "plt.grid()\n",
    "plt.legend(loc='best')\n",
    "plt.show()"
   ]
  },
  {
   "cell_type": "code",
   "execution_count": 14,
   "metadata": {},
   "outputs": [],
   "source": [
    "# Najviše je oboljelih pacijenata u 60-im godinama."
   ]
  },
  {
   "cell_type": "markdown",
   "metadata": {},
   "source": [
    "### 2.2 Starost i spol oboljelih pacijenata"
   ]
  },
  {
   "cell_type": "code",
   "execution_count": 15,
   "metadata": {},
   "outputs": [
    {
     "data": {
      "image/png": "[encoded data removed]",
      "text/plain": [
       "<Figure size 432x288 with 1 Axes>"
      ]
     },
     "metadata": {
      "needs_background": "light"
     },
     "output_type": "display_data"
    }
   ],
   "source": [
    "plt.hist(Data[(Data.condition==1) & (Data.sex==1)].age, label='Muškarci', color='blue', alpha = 0.4)\n",
    "plt.hist(Data[(Data.condition==1) & (Data.sex==0)].age, label='Žene', color='red', alpha = 0.6)\n",
    "plt.xlabel('Starost')\n",
    "plt.ylabel('Broj Pacijenata')\n",
    "plt.title('Raspodjela oboljelih pacijenata po spolu')\n",
    "plt.grid()\n",
    "plt.legend(loc='best')\n",
    "plt.show()"
   ]
  },
  {
   "cell_type": "code",
   "execution_count": 16,
   "metadata": {},
   "outputs": [],
   "source": [
    "# Sa sigurnošću se može reći kako muškarci u svakom životnom razdoblju čine većinu oboljelih."
   ]
  },
  {
   "cell_type": "markdown",
   "metadata": {},
   "source": [
    "### 2.3 Spol pacijenata"
   ]
  },
  {
   "cell_type": "code",
   "execution_count": 17,
   "metadata": {},
   "outputs": [
    {
     "data": {
      "image/png": "[encoded data removed]",
      "text/plain": [
       "<Figure size 432x288 with 1 Axes>"
      ]
     },
     "metadata": {},
     "output_type": "display_data"
    }
   ],
   "source": [
    "count_per_sex = Data['sex'].value_counts()\n",
    "title_name = ['Muškarci', 'Žene']\n",
    "plt.pie(count_per_sex, labels= title_name, autopct='%.f%%')\n",
    "plt.title('Udio muškaraca i žena u ukupnom broju pacijenata')\n",
    "plt.show()"
   ]
  },
  {
   "cell_type": "markdown",
   "metadata": {},
   "source": [
    "### 2.4 Spol oboljelih pacijenata"
   ]
  },
  {
   "cell_type": "code",
   "execution_count": 18,
   "metadata": {},
   "outputs": [
    {
     "data": {
      "image/png": "[encoded data removed]",
      "text/plain": [
       "<Figure size 432x288 with 1 Axes>"
      ]
     },
     "metadata": {},
     "output_type": "display_data"
    }
   ],
   "source": [
    "count_per_sex = Data[Data.condition == 1].sex.value_counts()\n",
    "title_name = ['Muškarci', 'Žene']\n",
    "plt.pie(count_per_sex, labels= title_name, autopct='%.f%%')\n",
    "plt.title('Udio muškaraca i žena u broju oboljelih pacijenata')\n",
    "plt.show()"
   ]
  },
  {
   "cell_type": "markdown",
   "metadata": {},
   "source": [
    "### 2.5 Razina kolesterola u ovisnosti o godinama i spolu\n"
   ]
  },
  {
   "cell_type": "code",
   "execution_count": 19,
   "metadata": {},
   "outputs": [
    {
     "data": {
      "image/png": "[encoded data removed]",
      "text/plain": [
       "<Figure size 432x288 with 1 Axes>"
      ]
     },
     "metadata": {
      "needs_background": "light"
     },
     "output_type": "display_data"
    }
   ],
   "source": [
    "w_age = Data[Data['sex'] == 0].age.values\n",
    "w_chol = Data[Data['sex'] == 0].chol.values\n",
    "m_age = Data[Data['sex'] == 1].age.values\n",
    "m_chol = Data[Data['sex'] == 1].chol.values\n",
    "\n",
    "plt.scatter(m_age, m_chol, label = 'Muškarci')\n",
    "plt.scatter(w_age, w_chol, label = 'Žene')\n",
    "plt.grid()\n",
    "plt.legend(loc='best')\n",
    "plt.xlabel('Starost')\n",
    "plt.ylabel('Kolesterol mg/dL')\n",
    "plt.title('Ovisnost razine kolesterola o starosti i spolu')\n",
    "plt.show()"
   ]
  },
  {
   "cell_type": "code",
   "execution_count": 20,
   "metadata": {},
   "outputs": [],
   "source": [
    "# Iz grafa se ništa ne može zaključiti sa sigurnošću, ali može se primijetiti da svim pacijentima sa godinama postepeno raste kolesterol."
   ]
  },
  {
   "cell_type": "markdown",
   "metadata": {},
   "source": [
    "### 2.6 Razina kolesterola kod oboljelih i neoboljelih"
   ]
  },
  {
   "cell_type": "code",
   "execution_count": 21,
   "metadata": {},
   "outputs": [
    {
     "data": {
      "image/png": "[encoded data removed]",
      "text/plain": [
       "<Figure size 432x288 with 1 Axes>"
      ]
     },
     "metadata": {
      "needs_background": "light"
     },
     "output_type": "display_data"
    }
   ],
   "source": [
    "sick_age = Data[Data.condition == 1].age.values\n",
    "healthy_age = Data[Data.condition == 0].age.values\n",
    "\n",
    "sick_chol = Data[Data.condition == 1].chol.values\n",
    "healthy_chol = Data[Data.condition == 0].chol.values\n",
    "\n",
    "plt.scatter(sick_age, sick_chol, label = 'Oboljeli', color='red', alpha=0.7)\n",
    "plt.scatter(healthy_age, healthy_chol, label = 'Neoboljeli', color='blue', alpha=0.7)\n",
    "plt.grid()\n",
    "plt.legend(loc='best')\n",
    "plt.xlabel('Starost')\n",
    "plt.ylabel('Kolesterol mg/dL')\n",
    "plt.title('Razina kolesterola oboljelih i neoboljelih pacijenata')\n",
    "plt.show()"
   ]
  },
  {
   "cell_type": "code",
   "execution_count": 22,
   "metadata": {},
   "outputs": [],
   "source": [
    "# Kao i iz prethednog grafa ni iz ovog se ne mogu dobiti pretjerano korisne informacije. \n",
    "# Jedino se također primjećuje da i oboljelima i neoboljelima s vremenom raste kolesterol."
   ]
  },
  {
   "cell_type": "markdown",
   "metadata": {},
   "source": [
    "### 2.7 Ovisnost javljanja bolesti o boli u prsima \n"
   ]
  },
  {
   "cell_type": "code",
   "execution_count": 23,
   "metadata": {},
   "outputs": [
    {
     "data": {
      "image/png": "[encoded data removed]",
      "text/plain": [
       "<Figure size 432x288 with 1 Axes>"
      ]
     },
     "metadata": {
      "needs_background": "light"
     },
     "output_type": "display_data"
    }
   ],
   "source": [
    "\n",
    "Data[Data.condition == 1].cp.value_counts()[:4].plot(kind='bar', color='red', alpha=0.7, label='Oboljeli')\n",
    "Data[Data.condition == 0].cp.value_counts()[:4].plot(kind='bar', color='blue', alpha=0.7, bottom = Data[Data.condition == 1].cp.value_counts().values, label='Neoboljeli')\n",
    "plt.xlabel('Razina boli u prsima')\n",
    "plt.ylabel('Broj pacijenata')\n",
    "plt.title('Povezanost razine boli i oboljenja')\n",
    "plt.legend(loc='best')\n",
    "plt.show()"
   ]
  },
  {
   "cell_type": "code",
   "execution_count": 24,
   "metadata": {},
   "outputs": [],
   "source": [
    "# Najviše je pacijenata opisano tipom boli 2. Među njima je bilo čak sto sa srčanim problemima! \n",
    "# Od ostalih tipova boli u prsima, oboljeli pacijenti činili su manji udio."
   ]
  },
  {
   "cell_type": "markdown",
   "metadata": {},
   "source": [
    "### 2.8. Povezanost razine kolesterola i oboljenja"
   ]
  },
  {
   "cell_type": "code",
   "execution_count": 25,
   "metadata": {},
   "outputs": [
    {
     "data": {
      "image/png": "[encoded data removed]",
      "text/plain": [
       "<Figure size 432x288 with 1 Axes>"
      ]
     },
     "metadata": {
      "needs_background": "light"
     },
     "output_type": "display_data"
    }
   ],
   "source": [
    "sick_x = ['200', '300', '400']\n",
    "sick_y = []\n",
    "healthy_y = []\n",
    "\n",
    "sick_y.append(len(Data[(Data.condition==1) & (Data.chol<200)].values))\n",
    "sick_y.append(len(Data[(Data.condition==1) & (Data.chol<300) & (Data.chol>200)].values))\n",
    "sick_y.append(len(Data[(Data.condition==1) & (Data.chol<400) & (Data.chol>300)].values))\n",
    "\n",
    "healthy_y.append(len(Data[(Data.condition==0) & (Data.chol<200)].values))\n",
    "healthy_y.append(len(Data[(Data.condition==0) & (Data.chol<300) & (Data.chol>200)].values))\n",
    "healthy_y.append(len(Data[(Data.condition==0) & (Data.chol<400) & (Data.chol>300)].values))\n",
    "\n",
    "plt.bar(sick_x, sick_y, width=0.5, color='red', alpha=0.7, label='Oboljeli')\n",
    "plt.bar(sick_x, healthy_y, width=0.5,color='blue', alpha=0.7, bottom = sick_y, label='Neoboljeli')\n",
    "plt.xlabel('Kolesterol mg/dL')\n",
    "plt.ylabel('Broj pacijenata')\n",
    "plt.title('Povezanost razine kolesterola i oboljenja')\n",
    "plt.legend(loc='best')\n",
    "plt.show()"
   ]
  },
  {
   "cell_type": "code",
   "execution_count": 26,
   "metadata": {},
   "outputs": [],
   "source": [
    "# Iz priloženog se vidi da je najviše pacijenata zatražilo pomoć sa razinom kolesterola u krvi 200-300 mg/dL. \n",
    "# Grubim pogledom na graf vidi se da razina kolesterola nije pouzdan pokazatelj oboljenja.## I. Priprema i Vizualizacija Podataka"
   ]
  },
  {
   "attachments": {},
   "cell_type": "markdown",
   "id": "fd0181d0",
   "metadata": {},
   "source": [
    "## II. Replikacija rezultata\n",
    "\n"
   ]
  },
  {
   "attachments": {},
   "cell_type": "markdown",
   "metadata": {},
   "source": [
    "### II.1. Augmentacija - povećanje broja primjera"
   ]
  },
  {
   "cell_type": "code",
   "execution_count": 27,
   "metadata": {},
   "outputs": [],
   "source": [
    "import warnings\n",
    "warnings.filterwarnings('ignore')"
   ]
  },
  {
   "cell_type": "code",
   "execution_count": 28,
   "metadata": {},
   "outputs": [
    {
     "data": {
      "text/html": [
       "<div>\n",
       "<style scoped>\n",
       "    .dataframe tbody tr th:only-of-type {\n",
       "        vertical-align: middle;\n",
       "    }\n",
       "\n",
       "    .dataframe tbody tr th {\n",
       "        vertical-align: top;\n",
       "    }\n",
       "\n",
       "    .dataframe thead th {\n",
       "        text-align: right;\n",
       "    }\n",
       "</style>\n",
       "<table border=\"1\" class=\"dataframe\">\n",
       "  <thead>\n",
       "    <tr style=\"text-align: right;\">\n",
       "      <th></th>\n",
       "      <th>age</th>\n",
       "      <th>sex</th>\n",
       "      <th>cp</th>\n",
       "      <th>trestbps</th>\n",
       "      <th>chol</th>\n",
       "      <th>fbs</th>\n",
       "      <th>restecg</th>\n",
       "      <th>thalach</th>\n",
       "      <th>exang</th>\n",
       "      <th>oldpeak</th>\n",
       "      <th>slope</th>\n",
       "      <th>ca</th>\n",
       "      <th>thal</th>\n",
       "      <th>condition</th>\n",
       "    </tr>\n",
       "  </thead>\n",
       "  <tbody>\n",
       "    <tr>\n",
       "      <th>0</th>\n",
       "      <td>69.0</td>\n",
       "      <td>1.0</td>\n",
       "      <td>0.0</td>\n",
       "      <td>160.0</td>\n",
       "      <td>234.0</td>\n",
       "      <td>1.0</td>\n",
       "      <td>2.0</td>\n",
       "      <td>131.0</td>\n",
       "      <td>0.0</td>\n",
       "      <td>0.1</td>\n",
       "      <td>1.0</td>\n",
       "      <td>1.0</td>\n",
       "      <td>0.0</td>\n",
       "      <td>0.0</td>\n",
       "    </tr>\n",
       "    <tr>\n",
       "      <th>1</th>\n",
       "      <td>56.0</td>\n",
       "      <td>1.0</td>\n",
       "      <td>2.0</td>\n",
       "      <td>153.0</td>\n",
       "      <td>371.0</td>\n",
       "      <td>1.0</td>\n",
       "      <td>1.0</td>\n",
       "      <td>144.0</td>\n",
       "      <td>1.0</td>\n",
       "      <td>3.0</td>\n",
       "      <td>1.0</td>\n",
       "      <td>2.0</td>\n",
       "      <td>1.0</td>\n",
       "      <td>1.0</td>\n",
       "    </tr>\n",
       "    <tr>\n",
       "      <th>2</th>\n",
       "      <td>56.0</td>\n",
       "      <td>1.0</td>\n",
       "      <td>2.0</td>\n",
       "      <td>153.0</td>\n",
       "      <td>371.0</td>\n",
       "      <td>1.0</td>\n",
       "      <td>1.0</td>\n",
       "      <td>144.0</td>\n",
       "      <td>1.0</td>\n",
       "      <td>3.0</td>\n",
       "      <td>1.0</td>\n",
       "      <td>2.0</td>\n",
       "      <td>1.0</td>\n",
       "      <td>1.0</td>\n",
       "    </tr>\n",
       "    <tr>\n",
       "      <th>3</th>\n",
       "      <td>69.0</td>\n",
       "      <td>0.0</td>\n",
       "      <td>0.0</td>\n",
       "      <td>140.0</td>\n",
       "      <td>239.0</td>\n",
       "      <td>0.0</td>\n",
       "      <td>0.0</td>\n",
       "      <td>151.0</td>\n",
       "      <td>0.0</td>\n",
       "      <td>1.8</td>\n",
       "      <td>0.0</td>\n",
       "      <td>2.0</td>\n",
       "      <td>0.0</td>\n",
       "      <td>0.0</td>\n",
       "    </tr>\n",
       "    <tr>\n",
       "      <th>4</th>\n",
       "      <td>72.0</td>\n",
       "      <td>1.0</td>\n",
       "      <td>3.0</td>\n",
       "      <td>188.0</td>\n",
       "      <td>515.0</td>\n",
       "      <td>1.0</td>\n",
       "      <td>2.0</td>\n",
       "      <td>187.0</td>\n",
       "      <td>1.0</td>\n",
       "      <td>6.0</td>\n",
       "      <td>2.0</td>\n",
       "      <td>3.0</td>\n",
       "      <td>2.0</td>\n",
       "      <td>1.0</td>\n",
       "    </tr>\n",
       "  </tbody>\n",
       "</table>\n",
       "</div>"
      ],
      "text/plain": [
       "    age  sex   cp  trestbps   chol  fbs  restecg  thalach  exang  oldpeak  \\\n",
       "0  69.0  1.0  0.0     160.0  234.0  1.0      2.0    131.0    0.0      0.1   \n",
       "1  56.0  1.0  2.0     153.0  371.0  1.0      1.0    144.0    1.0      3.0   \n",
       "2  56.0  1.0  2.0     153.0  371.0  1.0      1.0    144.0    1.0      3.0   \n",
       "3  69.0  0.0  0.0     140.0  239.0  0.0      0.0    151.0    0.0      1.8   \n",
       "4  72.0  1.0  3.0     188.0  515.0  1.0      2.0    187.0    1.0      6.0   \n",
       "\n",
       "   slope   ca  thal  condition  \n",
       "0    1.0  1.0   0.0        0.0  \n",
       "1    1.0  2.0   1.0        1.0  \n",
       "2    1.0  2.0   1.0        1.0  \n",
       "3    0.0  2.0   0.0        0.0  \n",
       "4    2.0  3.0   2.0        1.0  "
      ]
     },
     "execution_count": 28,
     "metadata": {},
     "output_type": "execute_result"
    }
   ],
   "source": [
    "import random\n",
    "new_rows = []\n",
    "\n",
    "for i, row in Data.iterrows():\n",
    "    new_rows.append(row.array)\n",
    "    p = np.random.random(1)\n",
    "    for k in range(2):\n",
    "        new_row = [np.round(p*(Data[col].max()-Data[col].min())+Data[col].min())[0] for col in Data.columns]\n",
    "        new_rows.append(new_row)\n",
    "tripled_df = pd.DataFrame(new_rows, columns=Data.columns)\n",
    "tripled_df.head()\n"
   ]
  },
  {
   "cell_type": "code",
   "execution_count": 29,
   "metadata": {},
   "outputs": [
    {
     "data": {
      "text/html": [
       "<div>\n",
       "<style scoped>\n",
       "    .dataframe tbody tr th:only-of-type {\n",
       "        vertical-align: middle;\n",
       "    }\n",
       "\n",
       "    .dataframe tbody tr th {\n",
       "        vertical-align: top;\n",
       "    }\n",
       "\n",
       "    .dataframe thead th {\n",
       "        text-align: right;\n",
       "    }\n",
       "</style>\n",
       "<table border=\"1\" class=\"dataframe\">\n",
       "  <thead>\n",
       "    <tr style=\"text-align: right;\">\n",
       "      <th></th>\n",
       "      <th>age</th>\n",
       "      <th>sex</th>\n",
       "      <th>cp</th>\n",
       "      <th>trestbps</th>\n",
       "      <th>chol</th>\n",
       "      <th>fbs</th>\n",
       "      <th>restecg</th>\n",
       "      <th>thalach</th>\n",
       "      <th>exang</th>\n",
       "      <th>oldpeak</th>\n",
       "      <th>slope</th>\n",
       "      <th>ca</th>\n",
       "      <th>thal</th>\n",
       "      <th>condition</th>\n",
       "    </tr>\n",
       "  </thead>\n",
       "  <tbody>\n",
       "    <tr>\n",
       "      <th>count</th>\n",
       "      <td>891.000000</td>\n",
       "      <td>891.000000</td>\n",
       "      <td>891.000000</td>\n",
       "      <td>891.000000</td>\n",
       "      <td>891.000000</td>\n",
       "      <td>891.000000</td>\n",
       "      <td>891.000000</td>\n",
       "      <td>891.000000</td>\n",
       "      <td>891.000000</td>\n",
       "      <td>891.000000</td>\n",
       "      <td>891.000000</td>\n",
       "      <td>891.000000</td>\n",
       "      <td>891.000000</td>\n",
       "      <td>891.000000</td>\n",
       "    </tr>\n",
       "    <tr>\n",
       "      <th>mean</th>\n",
       "      <td>52.914703</td>\n",
       "      <td>0.537598</td>\n",
       "      <td>1.682379</td>\n",
       "      <td>140.544332</td>\n",
       "      <td>306.863075</td>\n",
       "      <td>0.360269</td>\n",
       "      <td>0.967452</td>\n",
       "      <td>139.197531</td>\n",
       "      <td>0.420875</td>\n",
       "      <td>2.320426</td>\n",
       "      <td>0.836139</td>\n",
       "      <td>1.188552</td>\n",
       "      <td>0.913580</td>\n",
       "      <td>0.465769</td>\n",
       "    </tr>\n",
       "    <tr>\n",
       "      <th>std</th>\n",
       "      <td>12.568353</td>\n",
       "      <td>0.498864</td>\n",
       "      <td>1.025031</td>\n",
       "      <td>27.864540</td>\n",
       "      <td>116.118127</td>\n",
       "      <td>0.480348</td>\n",
       "      <td>0.818368</td>\n",
       "      <td>34.596831</td>\n",
       "      <td>0.493977</td>\n",
       "      <td>1.883682</td>\n",
       "      <td>0.703184</td>\n",
       "      <td>1.025694</td>\n",
       "      <td>0.804723</td>\n",
       "      <td>0.499107</td>\n",
       "    </tr>\n",
       "    <tr>\n",
       "      <th>min</th>\n",
       "      <td>29.000000</td>\n",
       "      <td>0.000000</td>\n",
       "      <td>0.000000</td>\n",
       "      <td>94.000000</td>\n",
       "      <td>126.000000</td>\n",
       "      <td>0.000000</td>\n",
       "      <td>0.000000</td>\n",
       "      <td>71.000000</td>\n",
       "      <td>0.000000</td>\n",
       "      <td>0.000000</td>\n",
       "      <td>0.000000</td>\n",
       "      <td>0.000000</td>\n",
       "      <td>0.000000</td>\n",
       "      <td>0.000000</td>\n",
       "    </tr>\n",
       "    <tr>\n",
       "      <th>25%</th>\n",
       "      <td>43.000000</td>\n",
       "      <td>0.000000</td>\n",
       "      <td>1.000000</td>\n",
       "      <td>120.000000</td>\n",
       "      <td>219.000000</td>\n",
       "      <td>0.000000</td>\n",
       "      <td>0.000000</td>\n",
       "      <td>111.500000</td>\n",
       "      <td>0.000000</td>\n",
       "      <td>0.800000</td>\n",
       "      <td>0.000000</td>\n",
       "      <td>0.000000</td>\n",
       "      <td>0.000000</td>\n",
       "      <td>0.000000</td>\n",
       "    </tr>\n",
       "    <tr>\n",
       "      <th>50%</th>\n",
       "      <td>54.000000</td>\n",
       "      <td>1.000000</td>\n",
       "      <td>2.000000</td>\n",
       "      <td>137.000000</td>\n",
       "      <td>279.000000</td>\n",
       "      <td>0.000000</td>\n",
       "      <td>1.000000</td>\n",
       "      <td>143.000000</td>\n",
       "      <td>0.000000</td>\n",
       "      <td>2.000000</td>\n",
       "      <td>1.000000</td>\n",
       "      <td>1.000000</td>\n",
       "      <td>1.000000</td>\n",
       "      <td>0.000000</td>\n",
       "    </tr>\n",
       "    <tr>\n",
       "      <th>75%</th>\n",
       "      <td>62.000000</td>\n",
       "      <td>1.000000</td>\n",
       "      <td>3.000000</td>\n",
       "      <td>161.500000</td>\n",
       "      <td>398.000000</td>\n",
       "      <td>1.000000</td>\n",
       "      <td>2.000000</td>\n",
       "      <td>165.500000</td>\n",
       "      <td>1.000000</td>\n",
       "      <td>4.000000</td>\n",
       "      <td>1.000000</td>\n",
       "      <td>2.000000</td>\n",
       "      <td>2.000000</td>\n",
       "      <td>1.000000</td>\n",
       "    </tr>\n",
       "    <tr>\n",
       "      <th>max</th>\n",
       "      <td>77.000000</td>\n",
       "      <td>1.000000</td>\n",
       "      <td>3.000000</td>\n",
       "      <td>200.000000</td>\n",
       "      <td>564.000000</td>\n",
       "      <td>1.000000</td>\n",
       "      <td>2.000000</td>\n",
       "      <td>202.000000</td>\n",
       "      <td>1.000000</td>\n",
       "      <td>6.200000</td>\n",
       "      <td>2.000000</td>\n",
       "      <td>3.000000</td>\n",
       "      <td>2.000000</td>\n",
       "      <td>1.000000</td>\n",
       "    </tr>\n",
       "  </tbody>\n",
       "</table>\n",
       "</div>"
      ],
      "text/plain": [
       "              age         sex          cp    trestbps        chol         fbs  \\\n",
       "count  891.000000  891.000000  891.000000  891.000000  891.000000  891.000000   \n",
       "mean    52.914703    0.537598    1.682379  140.544332  306.863075    0.360269   \n",
       "std     12.568353    0.498864    1.025031   27.864540  116.118127    0.480348   \n",
       "min     29.000000    0.000000    0.000000   94.000000  126.000000    0.000000   \n",
       "25%     43.000000    0.000000    1.000000  120.000000  219.000000    0.000000   \n",
       "50%     54.000000    1.000000    2.000000  137.000000  279.000000    0.000000   \n",
       "75%     62.000000    1.000000    3.000000  161.500000  398.000000    1.000000   \n",
       "max     77.000000    1.000000    3.000000  200.000000  564.000000    1.000000   \n",
       "\n",
       "          restecg     thalach       exang     oldpeak       slope          ca  \\\n",
       "count  891.000000  891.000000  891.000000  891.000000  891.000000  891.000000   \n",
       "mean     0.967452  139.197531    0.420875    2.320426    0.836139    1.188552   \n",
       "std      0.818368   34.596831    0.493977    1.883682    0.703184    1.025694   \n",
       "min      0.000000   71.000000    0.000000    0.000000    0.000000    0.000000   \n",
       "25%      0.000000  111.500000    0.000000    0.800000    0.000000    0.000000   \n",
       "50%      1.000000  143.000000    0.000000    2.000000    1.000000    1.000000   \n",
       "75%      2.000000  165.500000    1.000000    4.000000    1.000000    2.000000   \n",
       "max      2.000000  202.000000    1.000000    6.200000    2.000000    3.000000   \n",
       "\n",
       "             thal   condition  \n",
       "count  891.000000  891.000000  \n",
       "mean     0.913580    0.465769  \n",
       "std      0.804723    0.499107  \n",
       "min      0.000000    0.000000  \n",
       "25%      0.000000    0.000000  \n",
       "50%      1.000000    0.000000  \n",
       "75%      2.000000    1.000000  \n",
       "max      2.000000    1.000000  "
      ]
     },
     "execution_count": 29,
     "metadata": {},
     "output_type": "execute_result"
    }
   ],
   "source": [
    "tripled_df.describe()"
   ]
  },
  {
   "cell_type": "code",
   "execution_count": 30,
   "metadata": {},
   "outputs": [],
   "source": [
    "# from sklearn.preprocessing import StandardScaler\n",
    "# from math import *\n",
    "\n",
    "# scaler = StandardScaler()\n",
    "# scaler.fit(Data.values)\n",
    "\n",
    "# means_ss = scaler.mean_\n",
    "# vars_ss = scaler.var_\n",
    "\n",
    "# new_rows = []\n",
    "# for i, row in Data.iterrows():\n",
    "#     new_rows.append(row.array)\n",
    "#     for k in range(2):\n",
    "#         new_row = [round(random.gauss(means_ss[c], sqrt(vars_ss[c]))) for c in range(len(Data.columns))]\n",
    "#         new_rows.append(new_row)\n",
    "# new_data = pd.DataFrame(new_rows, columns = Data.columns)\n",
    "# new_data.head()\n",
    "\n",
    "# for i, row in Data.iterrows():\n",
    "#     new_rows.append(row.array)\n",
    "#     new_rows.append(row.array)\n",
    "#     for k in range(2):\n",
    "#         new_row = [round(random.uniform(Data[col].min(), Data[col].max())) for col in Data.columns]\n",
    "#         new_rows.append(new_row)\n",
    "# tripled_df = pd.DataFrame(new_rows, columns=Data.columns)\n",
    "# tripled_df.head()"
   ]
  },
  {
   "attachments": {},
   "cell_type": "markdown",
   "metadata": {},
   "source": [
    "### II.2. Predikcija na različitim modelima"
   ]
  },
  {
   "cell_type": "code",
   "execution_count": 31,
   "metadata": {},
   "outputs": [],
   "source": [
    "X = tripled_df.drop(\"condition\", axis=1).values\n",
    "y = tripled_df[\"condition\"]\n",
    "\n",
    "X_old = Data.drop(\"condition\", axis=1).values\n",
    "y_old = Data[\"condition\"]"
   ]
  },
  {
   "cell_type": "code",
   "execution_count": 32,
   "metadata": {},
   "outputs": [],
   "source": [
    "from sklearn.tree import DecisionTreeClassifier\n",
    "from sklearn.naive_bayes import GaussianNB\n",
    "from sklearn.ensemble import RandomForestClassifier\n",
    "from sklearn.linear_model import LogisticRegression\n",
    "from sklearn import svm\n",
    "\n",
    "nb_clf = GaussianNB()\n",
    "dt_clf = DecisionTreeClassifier()\n",
    "rf_clf = RandomForestClassifier()\n",
    "lr_clf = LogisticRegression()\n",
    "svm_clf = svm.SVC(kernel='linear')"
   ]
  },
  {
   "cell_type": "code",
   "execution_count": 33,
   "metadata": {},
   "outputs": [],
   "source": [
    "from sklearn.model_selection import KFold, cross_val_score, cross_validate, cross_val_predict\n",
    "\n",
    "kfold = KFold(n_splits=10, random_state=42, shuffle=True)"
   ]
  },
  {
   "cell_type": "code",
   "execution_count": 34,
   "metadata": {},
   "outputs": [
    {
     "name": "stdout",
     "output_type": "stream",
     "text": [
      ">>> precision\n",
      "NB: 0.9234613587223943\n",
      "DT: 0.8842295385773646\n",
      "RF: 0.9419001324182545\n",
      "LR: 0.9473535719616347\n",
      "SVM: 0.947972118975582\n",
      "\n",
      ">>> accuracy\n",
      "NB: 0.9135955056179776\n",
      "DT: 0.9012734082397003\n",
      "RF: 0.9371410736579275\n",
      "LR: 0.9382521847690386\n",
      "SVM: 0.9427715355805244\n",
      "\n",
      ">>> recall\n",
      "NB: 0.8833477866705758\n",
      "DT: 0.8979186072963836\n",
      "RF: 0.9290417934973056\n",
      "LR: 0.9172550018575729\n",
      "SVM: 0.9264509744436383\n",
      "\n",
      "Test scores:\n",
      "NB: 0.9135955056179776\n",
      "DT: 0.9068913857677904\n",
      "RF: 0.9405118601747814\n",
      "LR: 0.9382521847690386\n",
      "SVM: 0.9427715355805244\n"
     ]
    }
   ],
   "source": [
    "nb_scores = cross_validate(nb_clf, X, y, cv=kfold)\n",
    "dt_scores = cross_validate(dt_clf, X, y, cv=kfold)\n",
    "rf_scores = cross_validate(rf_clf, X, y, cv=kfold)\n",
    "lr_scores = cross_validate(lr_clf, X, y, cv=kfold)\n",
    "svm_scores = cross_validate(svm_clf, X, y, cv=kfold)\n",
    "\n",
    "scoring_paramteres = [\"precision\", \"accuracy\", \"recall\"]\n",
    "\n",
    "for param in scoring_paramteres:\n",
    "    nb_param = cross_val_score(nb_clf, X, y, scoring=param, cv=kfold)\n",
    "    dt_param = cross_val_score(dt_clf, X, y, scoring=param, cv=kfold)\n",
    "    rf_param = cross_val_score(rf_clf, X, y, scoring=param, cv=kfold)\n",
    "    lr_param = cross_val_score(lr_clf, X, y, scoring=param, cv=kfold)\n",
    "    svm_param = cross_val_score(svm_clf, X, y, scoring=param, cv=kfold)\n",
    "\n",
    "    print(\">>> {}\".format(param))\n",
    "    print(\"NB: {}\".format(nb_param.mean()))\n",
    "    print(\"DT: {}\".format(dt_param.mean()))\n",
    "    print(\"RF: {}\".format(rf_param.mean()))\n",
    "    print(\"LR: {}\".format(lr_param.mean()))\n",
    "    print(\"SVM: {}\\n\".format(svm_param.mean()))\n",
    "\n",
    "\n",
    "print(\"Test scores:\")\n",
    "print(\"NB: {}\".format(nb_scores['test_score'].mean()))\n",
    "print(\"DT: {}\".format(dt_scores['test_score'].mean()))\n",
    "print(\"RF: {}\".format(rf_scores['test_score'].mean()))\n",
    "print(\"LR: {}\".format(lr_scores['test_score'].mean()))\n",
    "print(\"SVM: {}\".format(svm_scores['test_score'].mean()))"
   ]
  },
  {
   "attachments": {},
   "cell_type": "markdown",
   "metadata": {},
   "source": [
    "### II.3. Matrica zabune"
   ]
  },
  {
   "cell_type": "code",
   "execution_count": 35,
   "metadata": {},
   "outputs": [],
   "source": [
    "from sklearn.metrics import confusion_matrix\n",
    "import seaborn as sns\n",
    "\n",
    "y_pred_nb = np.array([])\n",
    "y_pred_dt = np.array([])\n",
    "y_pred_rf = np.array([])\n",
    "y_pred_lr = np.array([])\n",
    "y_pred_svm = np.array([])\n",
    "y_actual = np.array([])\n",
    "    \n",
    "for train_index, test_index in kfold.split(X):\n",
    "    X_train, X_test = X[train_index], X[test_index]\n",
    "    y_train, y_test = y[train_index], y[test_index]\n",
    "\n",
    "    nb_clf.fit(X_train, y_train)\n",
    "    dt_clf.fit(X_train, y_train)\n",
    "    rf_clf.fit(X_train, y_train)\n",
    "    lr_clf.fit(X_train, y_train)\n",
    "    svm_clf.fit(X_train, y_train)\n",
    "\n",
    "    nb_predicted = nb_clf.predict(X_test)\n",
    "    dt_predicted = dt_clf.predict(X_test)\n",
    "    rf_predicted = rf_clf.predict(X_test)\n",
    "    lr_predicted = lr_clf.predict(X_test)\n",
    "    svm_predicted = svm_clf.predict(X_test)\n",
    "\n",
    "    y_pred_nb = np.append(y_pred_nb, nb_predicted)\n",
    "    y_pred_dt = np.append(y_pred_dt, dt_predicted)\n",
    "    y_pred_rf = np.append(y_pred_rf, rf_predicted)\n",
    "    y_pred_lr = np.append(y_pred_lr, lr_predicted)\n",
    "    y_pred_svm = np.append(y_pred_svm, svm_predicted)\n",
    "    y_actual = np.append(y_actual, y_test)"
   ]
  },
  {
   "cell_type": "code",
   "execution_count": 36,
   "metadata": {},
   "outputs": [
    {
     "data": {
      "image/png": "[encoded data removed]",
      "text/plain": [
       "<Figure size 432x288 with 2 Axes>"
      ]
     },
     "metadata": {
      "needs_background": "light"
     },
     "output_type": "display_data"
    }
   ],
   "source": [
    "cf_mtrx_nb = confusion_matrix(y_actual, y_pred_nb)\n",
    "\n",
    "ax = sns.heatmap(cf_mtrx_nb, annot=True, cmap='Blues', fmt='g')\n",
    "\n",
    "ax.set_title('Naive Bayes\\n\\n');\n",
    "ax.set_xlabel('\\nPredicted Values')\n",
    "ax.set_ylabel('Actual Values ');\n",
    "\n",
    "ax.xaxis.set_ticklabels(['0','1'])\n",
    "ax.yaxis.set_ticklabels(['0','1'])\n",
    "\n",
    "plt.show()"
   ]
  },
  {
   "cell_type": "code",
   "execution_count": 37,
   "metadata": {},
   "outputs": [
    {
     "data": {
      "image/png": "[encoded data removed]",
      "text/plain": [
       "<Figure size 432x288 with 2 Axes>"
      ]
     },
     "metadata": {
      "needs_background": "light"
     },
     "output_type": "display_data"
    }
   ],
   "source": [
    "cf_mtrx_dt = confusion_matrix(y_actual, y_pred_dt)\n",
    "\n",
    "ax = sns.heatmap(cf_mtrx_dt, annot=True, cmap='Blues', fmt='g')\n",
    "\n",
    "ax.set_title('Decision Tree\\n\\n');\n",
    "ax.set_xlabel('\\nPredicted Values')\n",
    "ax.set_ylabel('Actual Values ');\n",
    "\n",
    "ax.xaxis.set_ticklabels(['0','1'])\n",
    "ax.yaxis.set_ticklabels(['0','1'])\n",
    "\n",
    "plt.show()"
   ]
  },
  {
   "cell_type": "code",
   "execution_count": 38,
   "metadata": {},
   "outputs": [
    {
     "data": {
      "image/png": "[encoded data removed]",
      "text/plain": [
       "<Figure size 432x288 with 2 Axes>"
      ]
     },
     "metadata": {
      "needs_background": "light"
     },
     "output_type": "display_data"
    }
   ],
   "source": [
    "cf_mtrx_rf = confusion_matrix(y_actual, y_pred_rf)\n",
    "\n",
    "ax = sns.heatmap(cf_mtrx_rf, annot=True, cmap='Blues', fmt='g')\n",
    "\n",
    "ax.set_title('Random Forest\\n\\n');\n",
    "ax.set_xlabel('\\nPredicted Values')\n",
    "ax.set_ylabel('Actual Values ');\n",
    "\n",
    "ax.xaxis.set_ticklabels(['0','1'])\n",
    "ax.yaxis.set_ticklabels(['0','1'])\n",
    "\n",
    "plt.show()"
   ]
  },
  {
   "cell_type": "code",
   "execution_count": 39,
   "metadata": {},
   "outputs": [
    {
     "data": {
      "image/png": "[encoded data removed]",
      "text/plain": [
       "<Figure size 432x288 with 2 Axes>"
      ]
     },
     "metadata": {
      "needs_background": "light"
     },
     "output_type": "display_data"
    }
   ],
   "source": [
    "cf_mtrx_lr = confusion_matrix(y_actual, y_pred_lr)\n",
    "\n",
    "ax = sns.heatmap(cf_mtrx_lr, annot=True, cmap='Blues', fmt='g')\n",
    "\n",
    "ax.set_title('Logistic Regression\\n\\n');\n",
    "ax.set_xlabel('\\nPredicted Values')\n",
    "ax.set_ylabel('Actual Values ');\n",
    "\n",
    "ax.xaxis.set_ticklabels(['0','1'])\n",
    "ax.yaxis.set_ticklabels(['0','1'])\n",
    "\n",
    "plt.show()"
   ]
  },
  {
   "cell_type": "code",
   "execution_count": 40,
   "metadata": {},
   "outputs": [
    {
     "data": {
      "image/png": "[encoded data removed]",
      "text/plain": [
       "<Figure size 432x288 with 2 Axes>"
      ]
     },
     "metadata": {
      "needs_background": "light"
     },
     "output_type": "display_data"
    }
   ],
   "source": [
    "cf_mtrx_svm = confusion_matrix(y_actual, y_pred_svm)\n",
    "\n",
    "ax = sns.heatmap(cf_mtrx_svm, annot=True, cmap='Blues', fmt='g')\n",
    "\n",
    "ax.set_title('SVM\\n\\n');\n",
    "ax.set_xlabel('\\nPredicted Values')\n",
    "ax.set_ylabel('Actual Values ');\n",
    "\n",
    "ax.xaxis.set_ticklabels(['0','1'])\n",
    "ax.yaxis.set_ticklabels(['0','1'])\n",
    "\n",
    "plt.show()"
   ]
  },
  {
   "attachments": {},
   "cell_type": "markdown",
   "metadata": {},
   "source": [
    "### II.4. AUC-ROC krivulje"
   ]
  },
  {
   "cell_type": "code",
   "execution_count": 41,
   "metadata": {},
   "outputs": [],
   "source": [
    "from sklearn import metrics\n",
    "\n",
    "#nb, dt, rf, lr, svm\n",
    "\n",
    "fpr_nb, tpr_nb, _ = metrics.roc_curve(y_actual, y_pred_nb)\n",
    "fpr_dt, tpr_dt, _ = metrics.roc_curve(y_actual, y_pred_dt)\n",
    "fpr_rf, tpr_rf, _ = metrics.roc_curve(y_actual, y_pred_rf)\n",
    "fpr_lr, tpr_lr, _ = metrics.roc_curve(y_actual, y_pred_lr)\n",
    "fpr_svm, tpr_svm, _ = metrics.roc_curve(y_actual, y_pred_svm)\n",
    "\n",
    "auc_nb = metrics.roc_auc_score(y_actual, y_pred_nb)\n",
    "auc_dt = metrics.roc_auc_score(y_actual, y_pred_dt)\n",
    "auc_rf = metrics.roc_auc_score(y_actual, y_pred_rf)\n",
    "auc_lr = metrics.roc_auc_score(y_actual, y_pred_lr)\n",
    "auc_svm = metrics.roc_auc_score(y_actual, y_pred_svm)"
   ]
  },
  {
   "cell_type": "code",
   "execution_count": 42,
   "metadata": {},
   "outputs": [
    {
     "data": {
      "image/png": "[encoded data removed]",
      "text/plain": [
       "<Figure size 432x288 with 1 Axes>"
      ]
     },
     "metadata": {
      "needs_background": "light"
     },
     "output_type": "display_data"
    }
   ],
   "source": [
    "plt.plot(fpr_nb, tpr_nb, label=\"AUC = \"+str(round(auc_nb, 5)))\n",
    "plt.ylabel('True Positive Rate')\n",
    "plt.xlabel('False Positive Rate')\n",
    "plt.title('Naive Bayes')\n",
    "plt.legend(loc='best')\n",
    "plt.show()"
   ]
  },
  {
   "cell_type": "code",
   "execution_count": 43,
   "metadata": {},
   "outputs": [
    {
     "data": {
      "image/png": "[encoded data removed]",
      "text/plain": [
       "<Figure size 432x288 with 1 Axes>"
      ]
     },
     "metadata": {
      "needs_background": "light"
     },
     "output_type": "display_data"
    }
   ],
   "source": [
    "plt.plot(fpr_dt, tpr_dt, label=\"AUC = \"+str(round(auc_dt, 5)))\n",
    "plt.ylabel('True Positive Rate')\n",
    "plt.xlabel('False Positive Rate')\n",
    "plt.title('Decision Tree')\n",
    "plt.legend(loc='best')\n",
    "plt.show()"
   ]
  },
  {
   "cell_type": "code",
   "execution_count": 44,
   "metadata": {},
   "outputs": [
    {
     "data": {
      "image/png": "[encoded data removed]",
      "text/plain": [
       "<Figure size 432x288 with 1 Axes>"
      ]
     },
     "metadata": {
      "needs_background": "light"
     },
     "output_type": "display_data"
    }
   ],
   "source": [
    "plt.plot(fpr_rf, tpr_rf, label=\"AUC = \"+str(round(auc_rf, 5)))\n",
    "plt.ylabel('True Positive Rate')\n",
    "plt.xlabel('False Positive Rate')\n",
    "plt.title('Random Forest')\n",
    "plt.legend(loc='best')\n",
    "plt.show()"
   ]
  },
  {
   "cell_type": "code",
   "execution_count": 45,
   "metadata": {},
   "outputs": [
    {
     "data": {
      "image/png": "[encoded data removed]",
      "text/plain": [
       "<Figure size 432x288 with 1 Axes>"
      ]
     },
     "metadata": {
      "needs_background": "light"
     },
     "output_type": "display_data"
    }
   ],
   "source": [
    "plt.plot(fpr_lr, tpr_lr, label=\"AUC = \"+str(round(auc_lr, 5)))\n",
    "plt.ylabel('True Positive Rate')\n",
    "plt.xlabel('False Positive Rate')\n",
    "plt.title('Logistic Regression')\n",
    "plt.legend(loc='best')\n",
    "plt.show()"
   ]
  },
  {
   "cell_type": "code",
   "execution_count": 46,
   "metadata": {},
   "outputs": [
    {
     "data": {
      "image/png": "[encoded data removed]",
      "text/plain": [
       "<Figure size 432x288 with 1 Axes>"
      ]
     },
     "metadata": {
      "needs_background": "light"
     },
     "output_type": "display_data"
    }
   ],
   "source": [
    "plt.plot(fpr_svm, tpr_svm, label=\"AUC = \"+str(round(auc_svm, 5)))\n",
    "plt.ylabel('True Positive Rate')\n",
    "plt.xlabel('False Positive Rate')\n",
    "plt.title('SVM')\n",
    "plt.legend(loc='best')\n",
    "plt.show()"
   ]
  },
  {
   "attachments": {},
   "cell_type": "markdown",
   "metadata": {},
   "source": [
    "# III. Poboljšanje rezultata\n"
   ]
  },
  {
   "attachments": {},
   "cell_type": "markdown",
   "metadata": {},
   "source": [
    "# III.1. Ispravak greške u članku "
   ]
  },
  {
   "attachments": {},
   "cell_type": "markdown",
   "metadata": {},
   "source": [
    "#### Augmentacija se radi na 70% prvotnih primjera koji će ujedno poslužiti i za treniranje. Ostalih 30% koristi se za testiranje."
   ]
  },
  {
   "cell_type": "code",
   "execution_count": 112,
   "metadata": {},
   "outputs": [
    {
     "data": {
      "text/html": [
       "<div>\n",
       "<style scoped>\n",
       "    .dataframe tbody tr th:only-of-type {\n",
       "        vertical-align: middle;\n",
       "    }\n",
       "\n",
       "    .dataframe tbody tr th {\n",
       "        vertical-align: top;\n",
       "    }\n",
       "\n",
       "    .dataframe thead th {\n",
       "        text-align: right;\n",
       "    }\n",
       "</style>\n",
       "<table border=\"1\" class=\"dataframe\">\n",
       "  <thead>\n",
       "    <tr style=\"text-align: right;\">\n",
       "      <th></th>\n",
       "      <th>age</th>\n",
       "      <th>sex</th>\n",
       "      <th>cp</th>\n",
       "      <th>trestbps</th>\n",
       "      <th>chol</th>\n",
       "      <th>fbs</th>\n",
       "      <th>restecg</th>\n",
       "      <th>thalach</th>\n",
       "      <th>exang</th>\n",
       "      <th>oldpeak</th>\n",
       "      <th>slope</th>\n",
       "      <th>ca</th>\n",
       "      <th>thal</th>\n",
       "      <th>condition</th>\n",
       "    </tr>\n",
       "  </thead>\n",
       "  <tbody>\n",
       "    <tr>\n",
       "      <th>count</th>\n",
       "      <td>390.000000</td>\n",
       "      <td>390.000000</td>\n",
       "      <td>390.000000</td>\n",
       "      <td>390.000000</td>\n",
       "      <td>390.000000</td>\n",
       "      <td>390.000000</td>\n",
       "      <td>390.000000</td>\n",
       "      <td>390.000000</td>\n",
       "      <td>390.000000</td>\n",
       "      <td>390.000000</td>\n",
       "      <td>390.000000</td>\n",
       "      <td>390.000000</td>\n",
       "      <td>390.000000</td>\n",
       "      <td>390.000000</td>\n",
       "    </tr>\n",
       "    <tr>\n",
       "      <th>mean</th>\n",
       "      <td>52.423077</td>\n",
       "      <td>0.530769</td>\n",
       "      <td>1.710256</td>\n",
       "      <td>133.474359</td>\n",
       "      <td>258.889744</td>\n",
       "      <td>0.366667</td>\n",
       "      <td>0.961538</td>\n",
       "      <td>137.915385</td>\n",
       "      <td>0.441026</td>\n",
       "      <td>2.268974</td>\n",
       "      <td>0.802564</td>\n",
       "      <td>1.212821</td>\n",
       "      <td>0.869231</td>\n",
       "      <td>0.441026</td>\n",
       "    </tr>\n",
       "    <tr>\n",
       "      <th>std</th>\n",
       "      <td>12.584235</td>\n",
       "      <td>0.499693</td>\n",
       "      <td>0.991298</td>\n",
       "      <td>22.654851</td>\n",
       "      <td>76.097865</td>\n",
       "      <td>0.482513</td>\n",
       "      <td>0.818210</td>\n",
       "      <td>34.849150</td>\n",
       "      <td>0.497148</td>\n",
       "      <td>1.861016</td>\n",
       "      <td>0.698506</td>\n",
       "      <td>1.013198</td>\n",
       "      <td>0.802199</td>\n",
       "      <td>0.497148</td>\n",
       "    </tr>\n",
       "    <tr>\n",
       "      <th>min</th>\n",
       "      <td>29.000000</td>\n",
       "      <td>0.000000</td>\n",
       "      <td>0.000000</td>\n",
       "      <td>94.000000</td>\n",
       "      <td>126.000000</td>\n",
       "      <td>0.000000</td>\n",
       "      <td>0.000000</td>\n",
       "      <td>71.000000</td>\n",
       "      <td>0.000000</td>\n",
       "      <td>0.000000</td>\n",
       "      <td>0.000000</td>\n",
       "      <td>0.000000</td>\n",
       "      <td>0.000000</td>\n",
       "      <td>0.000000</td>\n",
       "    </tr>\n",
       "    <tr>\n",
       "      <th>25%</th>\n",
       "      <td>42.000000</td>\n",
       "      <td>0.000000</td>\n",
       "      <td>1.000000</td>\n",
       "      <td>115.500000</td>\n",
       "      <td>200.250000</td>\n",
       "      <td>0.000000</td>\n",
       "      <td>0.000000</td>\n",
       "      <td>110.000000</td>\n",
       "      <td>0.000000</td>\n",
       "      <td>1.000000</td>\n",
       "      <td>0.000000</td>\n",
       "      <td>0.000000</td>\n",
       "      <td>0.000000</td>\n",
       "      <td>0.000000</td>\n",
       "    </tr>\n",
       "    <tr>\n",
       "      <th>50%</th>\n",
       "      <td>54.000000</td>\n",
       "      <td>1.000000</td>\n",
       "      <td>2.000000</td>\n",
       "      <td>130.000000</td>\n",
       "      <td>251.000000</td>\n",
       "      <td>0.000000</td>\n",
       "      <td>1.000000</td>\n",
       "      <td>144.000000</td>\n",
       "      <td>0.000000</td>\n",
       "      <td>2.000000</td>\n",
       "      <td>1.000000</td>\n",
       "      <td>1.000000</td>\n",
       "      <td>1.000000</td>\n",
       "      <td>0.000000</td>\n",
       "    </tr>\n",
       "    <tr>\n",
       "      <th>75%</th>\n",
       "      <td>62.000000</td>\n",
       "      <td>1.000000</td>\n",
       "      <td>3.000000</td>\n",
       "      <td>151.000000</td>\n",
       "      <td>317.750000</td>\n",
       "      <td>1.000000</td>\n",
       "      <td>2.000000</td>\n",
       "      <td>163.000000</td>\n",
       "      <td>1.000000</td>\n",
       "      <td>4.000000</td>\n",
       "      <td>1.000000</td>\n",
       "      <td>2.000000</td>\n",
       "      <td>2.000000</td>\n",
       "      <td>1.000000</td>\n",
       "    </tr>\n",
       "    <tr>\n",
       "      <th>max</th>\n",
       "      <td>77.000000</td>\n",
       "      <td>1.000000</td>\n",
       "      <td>3.000000</td>\n",
       "      <td>180.000000</td>\n",
       "      <td>417.000000</td>\n",
       "      <td>1.000000</td>\n",
       "      <td>2.000000</td>\n",
       "      <td>202.000000</td>\n",
       "      <td>1.000000</td>\n",
       "      <td>6.200000</td>\n",
       "      <td>2.000000</td>\n",
       "      <td>3.000000</td>\n",
       "      <td>2.000000</td>\n",
       "      <td>1.000000</td>\n",
       "    </tr>\n",
       "  </tbody>\n",
       "</table>\n",
       "</div>"
      ],
      "text/plain": [
       "              age         sex          cp    trestbps        chol         fbs  \\\n",
       "count  390.000000  390.000000  390.000000  390.000000  390.000000  390.000000   \n",
       "mean    52.423077    0.530769    1.710256  133.474359  258.889744    0.366667   \n",
       "std     12.584235    0.499693    0.991298   22.654851   76.097865    0.482513   \n",
       "min     29.000000    0.000000    0.000000   94.000000  126.000000    0.000000   \n",
       "25%     42.000000    0.000000    1.000000  115.500000  200.250000    0.000000   \n",
       "50%     54.000000    1.000000    2.000000  130.000000  251.000000    0.000000   \n",
       "75%     62.000000    1.000000    3.000000  151.000000  317.750000    1.000000   \n",
       "max     77.000000    1.000000    3.000000  180.000000  417.000000    1.000000   \n",
       "\n",
       "          restecg     thalach       exang     oldpeak       slope          ca  \\\n",
       "count  390.000000  390.000000  390.000000  390.000000  390.000000  390.000000   \n",
       "mean     0.961538  137.915385    0.441026    2.268974    0.802564    1.212821   \n",
       "std      0.818210   34.849150    0.497148    1.861016    0.698506    1.013198   \n",
       "min      0.000000   71.000000    0.000000    0.000000    0.000000    0.000000   \n",
       "25%      0.000000  110.000000    0.000000    1.000000    0.000000    0.000000   \n",
       "50%      1.000000  144.000000    0.000000    2.000000    1.000000    1.000000   \n",
       "75%      2.000000  163.000000    1.000000    4.000000    1.000000    2.000000   \n",
       "max      2.000000  202.000000    1.000000    6.200000    2.000000    3.000000   \n",
       "\n",
       "             thal   condition  \n",
       "count  390.000000  390.000000  \n",
       "mean     0.869231    0.441026  \n",
       "std      0.802199    0.497148  \n",
       "min      0.000000    0.000000  \n",
       "25%      0.000000    0.000000  \n",
       "50%      1.000000    0.000000  \n",
       "75%      2.000000    1.000000  \n",
       "max      2.000000    1.000000  "
      ]
     },
     "execution_count": 112,
     "metadata": {},
     "output_type": "execute_result"
    }
   ],
   "source": [
    "import numpy\n",
    "from sklearn.model_selection import train_test_split\n",
    "\n",
    "feature_names = Data.drop(\"condition\", axis=1).columns\n",
    "\n",
    "X_newTrain, X_newTest, y_newTrain, y_newTest = train_test_split(X_old, y_old, test_size=0.33, random_state=42)\n",
    "\n",
    "X_newTrain_df = pd.DataFrame(X_newTrain)\n",
    "X_newTest_df = pd.DataFrame(X_newTest)\n",
    "y_newTest_df = pd.DataFrame(y_newTest)\n",
    "y_newTrain_df = pd.DataFrame(y_newTrain)\n",
    "X_newTrain_df.columns = feature_names\n",
    "X_newTest_df.columns = feature_names\n",
    "\n",
    "newTrainData = pd.merge(X_newTrain_df, y_newTrain_df, right_index=True, left_index=True)\n",
    "newTestData = pd.merge(X_newTest_df, y_newTest_df, right_index=True, left_index=True)\n",
    "\n",
    "new_rows = []\n",
    "\n",
    "for i, row in newTrainData.iterrows():\n",
    "    new_rows.append(row.array)\n",
    "    p = np.random.random(1)\n",
    "    for k in range(2):\n",
    "        new_row = [np.round(p*(newTrainData[col].max()-newTrainData[col].min())+newTrainData[col].min())[0] for col in newTrainData.columns]\n",
    "        new_rows.append(new_row)\n",
    "tripled_train_df = pd.DataFrame(new_rows, columns=newTrainData.columns)\n",
    "\n",
    "tripled_train_df.describe()"
   ]
  },
  {
   "cell_type": "code",
   "execution_count": 113,
   "metadata": {},
   "outputs": [],
   "source": [
    "tripled_X_train = newTrainData.drop(\"condition\", axis=1).values\n",
    "tripled_y_train = newTrainData[\"condition\"]"
   ]
  },
  {
   "cell_type": "code",
   "execution_count": 120,
   "metadata": {},
   "outputs": [
    {
     "name": "stdout",
     "output_type": "stream",
     "text": [
      "NB\n",
      ">>> acc.score = 0.5456730769230769\n",
      ">>> prec.score = 0.35384615384615387\n",
      ">>> rec.score = 0.3704545454545455\n",
      "\n",
      "DT\n",
      ">>> acc.score = 0.47676282051282054\n",
      ">>> prec.score = 0.3145292207792208\n",
      ">>> rec.score = 0.3806818181818182\n",
      "\n",
      "RF\n",
      ">>> acc.score = 0.4951923076923077\n",
      ">>> prec.score = 0.1346153846153846\n",
      ">>> rec.score = 0.21875\n",
      "\n",
      "LR\n",
      ">>> acc.score = 0.547275641025641\n",
      ">>> prec.score = 0.581043956043956\n",
      ">>> rec.score = 0.30933441558441555\n",
      "\n",
      "SVM\n",
      ">>> acc.score = 0.5873397435897436\n",
      ">>> prec.score = 0.5269480519480519\n",
      ">>> rec.score = 0.4226461038961039\n",
      "\n"
     ]
    }
   ],
   "source": [
    "import math as mth\n",
    "from sklearn.metrics import accuracy_score, recall_score, precision_score\n",
    "\n",
    "def train_test_function(model, X_train, y_train, X_test, y_test):\n",
    "    acc = np.zeros(4)\n",
    "    rec = np.zeros(4)\n",
    "    prec = np.zeros(4)\n",
    "\n",
    "    l_train = mth.floor(len(X_train)/4)\n",
    "    l_test = mth.floor(len(X_test)/4)\n",
    "    for i in range (4):\n",
    "        start_train = i * l_train\n",
    "        start_test = i * l_test\n",
    "        if (i==3):\n",
    "            end_train = len(X_train)-1\n",
    "            end_test = len(X_test)-1\n",
    "        else:\n",
    "            end_train = (i+1)*l_train\n",
    "            end_test = (i+1)*l_test\n",
    "        X_loop_train = X_train[start_train:end_train]\n",
    "        y_loop_train = y_train[start_train:end_train]\n",
    "        X_loop_test = X_test[start_test:end_test]\n",
    "        y_loop_test = y_test[start_test:end_test]\n",
    "\n",
    "        model.fit(X_loop_train, y_loop_train)\n",
    "        y_pred = model.predict(X_loop_test)\n",
    "        acc[i], rec[i], prec[i] = accuracy_score(y_loop_test, y_pred), recall_score(y_loop_test, y_pred), precision_score(y_loop_test, y_pred)\n",
    "\n",
    "    print(\">>> acc.score = {}\".format(acc.mean()))\n",
    "    print(\">>> prec.score = {}\".format(prec.mean()))\n",
    "    print(\">>> rec.score = {}\".format(rec.mean()), end=\"\\n\\n\")\n",
    "\n",
    "print(\"NB\")   \n",
    "train_test_function(nb_clf, tripled_X_train, tripled_y_train, X_newTest, y_newTest)\n",
    "print(\"DT\")\n",
    "train_test_function(dt_clf, tripled_X_train, tripled_y_train, X_newTest, y_newTest)\n",
    "print(\"RF\")\n",
    "train_test_function(rf_clf, tripled_X_train, tripled_y_train, X_newTest, y_newTest)\n",
    "print(\"LR\")\n",
    "train_test_function(lr_clf, tripled_X_train, tripled_y_train, X_newTest, y_newTest)\n",
    "print(\"SVM\")\n",
    "train_test_function(svm_clf, tripled_X_train, tripled_y_train, X_newTest, y_newTest)"
   ]
  },
  {
   "cell_type": "code",
   "execution_count": 121,
   "metadata": {},
   "outputs": [
    {
     "name": "stdout",
     "output_type": "stream",
     "text": [
      "NB\n",
      ">>> acc.score = 0.7732371794871795\n",
      ">>> prec.score = 0.7381944444444444\n",
      ">>> rec.score = 0.8138798701298702\n",
      "\n",
      "DT\n",
      ">>> acc.score = 0.7067307692307692\n",
      ">>> prec.score = 0.6318681318681318\n",
      ">>> rec.score = 0.7870941558441559\n",
      "\n",
      "RF\n",
      ">>> acc.score = 0.7532051282051282\n",
      ">>> prec.score = 0.7208333333333333\n",
      ">>> rec.score = 0.75762987012987\n",
      "\n",
      "LR\n",
      ">>> acc.score = 0.7732371794871795\n",
      ">>> prec.score = 0.7316017316017316\n",
      ">>> rec.score = 0.787987012987013\n",
      "\n",
      "SVM\n",
      ">>> acc.score = 0.7732371794871795\n",
      ">>> prec.score = 0.7417027417027418\n",
      ">>> rec.score = 0.7951298701298701\n",
      "\n"
     ]
    }
   ],
   "source": [
    "print(\"NB\")   \n",
    "train_test_function(nb_clf, X_newTrain, y_newTrain, X_newTest, y_newTest)\n",
    "print(\"DT\")\n",
    "train_test_function(dt_clf, X_newTrain, y_newTrain, X_newTest, y_newTest)\n",
    "print(\"RF\")\n",
    "train_test_function(rf_clf, X_newTrain, y_newTrain, X_newTest, y_newTest)\n",
    "print(\"LR\")\n",
    "train_test_function(lr_clf, X_newTrain, y_newTrain, X_newTest, y_newTest)\n",
    "print(\"SVM\")\n",
    "train_test_function(svm_clf, X_newTrain, y_newTrain, X_newTest, y_newTest)"
   ]
  },
  {
   "attachments": {},
   "cell_type": "markdown",
   "metadata": {},
   "source": [
    "# III.2. Feature importance"
   ]
  },
  {
   "attachments": {},
   "cell_type": "markdown",
   "metadata": {},
   "source": [
    "#### Koristeći algoritam randomizirane šume napravljen je graf najbitnijih značajki."
   ]
  },
  {
   "cell_type": "code",
   "execution_count": 122,
   "metadata": {},
   "outputs": [
    {
     "data": {
      "image/png": "[encoded data removed]",
      "text/plain": [
       "<Figure size 432x288 with 1 Axes>"
      ]
     },
     "metadata": {
      "needs_background": "light"
     },
     "output_type": "display_data"
    }
   ],
   "source": [
    "feature_names = Data.drop(\"condition\", axis=1).columns\n",
    "\n",
    "rf_clf.fit(X_newTrain, y_newTrain)\n",
    "importances = rf_clf.feature_importances_\n",
    "std = np.std([tree.feature_importances_ for tree in rf_clf.estimators_], axis=0)\n",
    "\n",
    "forest_importances = pd.Series(importances, index=feature_names)\n",
    "\n",
    "fig, ax = plt.subplots()\n",
    "forest_importances.plot.bar(yerr=std, ax=ax)\n",
    "ax.set_title(\"Feature importances\")\n",
    "ax.set_ylabel(\"Mean decrease in impurity\")\n",
    "fig.tight_layout()"
   ]
  },
  {
   "attachments": {},
   "cell_type": "markdown",
   "metadata": {},
   "source": [
    "### s p neke featurese mijenjati, gauss varijanca i mean\n",
    "### promijeniti vaznost neki feature u treniranju "
   ]
  },
  {
   "cell_type": "code",
   "execution_count": 125,
   "metadata": {},
   "outputs": [
    {
     "name": "stdout",
     "output_type": "stream",
     "text": [
      "NB\n",
      ">>> acc.score = 0.696969696969697\n",
      ">>> prec.score = 0.1875\n",
      ">>> rec.score = 0.25\n",
      "\n",
      "DT\n",
      ">>> acc.score = 0.5858585858585859\n",
      ">>> prec.score = 0.1958333333333333\n",
      ">>> rec.score = 0.3333333333333333\n",
      "\n",
      "RF\n",
      ">>> acc.score = 0.7297979797979798\n",
      ">>> prec.score = 0.25\n",
      ">>> rec.score = 0.125\n",
      "\n",
      "LR\n",
      ">>> acc.score = 0.6414141414141414\n",
      ">>> prec.score = 0.35\n",
      ">>> rec.score = 0.3333333333333333\n",
      "\n",
      "SVM\n",
      ">>> acc.score = 0.5580808080808081\n",
      ">>> prec.score = 0.13333333333333333\n",
      ">>> rec.score = 0.25\n",
      "\n"
     ]
    }
   ],
   "source": [
    "X_important_train = newTrainData.drop(['fbs', 'condition'], axis=1).values\n",
    "y_important_train = newTrainData['condition']\n",
    "X_important_test = newTestData.drop(['fbs', 'condition'], axis=1).values\n",
    "y_important_test = newTestData['condition']\n",
    "\n",
    "print(\"NB\")   \n",
    "train_test_function(nb_clf, X_important_train, y_important_train, X_important_test, y_important_test)\n",
    "print(\"DT\")\n",
    "train_test_function(dt_clf, X_important_train, y_important_train, X_important_test, y_important_test)\n",
    "print(\"RF\")\n",
    "train_test_function(rf_clf, X_important_train, y_important_train, X_important_test, y_important_test)\n",
    "print(\"LR\")\n",
    "train_test_function(lr_clf, X_important_train, y_important_train, X_important_test, y_important_test)\n",
    "print(\"SVM\")\n",
    "train_test_function(svm_clf, X_important_train, y_important_train, X_important_test, y_important_test)"
   ]
  },
  {
   "attachments": {},
   "cell_type": "markdown",
   "metadata": {},
   "source": [
    "### III.3. Mijenjanje tezina u treniranju\n"
   ]
  },
  {
   "cell_type": "code",
   "execution_count": 126,
   "metadata": {},
   "outputs": [],
   "source": [
    "from sklearn.pipeline import Pipeline\n",
    "from sklearn.compose import ColumnTransformer\n",
    "from sklearn.base import TransformerMixin\n",
    "\n",
    "weights=[1, 1, 1, 1, 1, 1, 1, 2, 1, 2, 1, 1, 2]\n",
    "\n",
    "class WeightedTransformer(TransformerMixin):\n",
    "    def __init__(self, weights) -> None:\n",
    "        self.weights = weights\n",
    "    \n",
    "    def fit(self, X, y=None):\n",
    "        return self\n",
    "    \n",
    "    def transform(self, X):\n",
    "        return X*self.weights"
   ]
  },
  {
   "cell_type": "code",
   "execution_count": null,
   "metadata": {},
   "outputs": [],
   "source": []
  }
 ],
 "metadata": {
  "kernelspec": {
   "display_name": "Python 3.9.2 64-bit",
   "language": "python",
   "name": "python3"
  },
  "language_info": {
   "codemirror_mode": {
    "name": "ipython",
    "version": 3
   },
   "file_extension": ".py",
   "mimetype": "text/x-python",
   "name": "python",
   "nbconvert_exporter": "python",
   "pygments_lexer": "ipython3",
   "version": "3.9.2"
  },
  "orig_nbformat": 4,
  "vscode": {
   "interpreter": {
    "hash": "4469f21fbc21c47ffa87603349daa7a5249faa6327052be7fdd87b78b86059a2"
   }
  }
 },
 "nbformat": 4,
 "nbformat_minor": 2
}
